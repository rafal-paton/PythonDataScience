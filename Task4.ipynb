{
 "cells": [
  {
   "cell_type": "code",
   "execution_count": 1,
   "id": "f712745f-9bb5-4bdd-8069-8569ef2f5c70",
   "metadata": {},
   "outputs": [
    {
     "name": "stdout",
     "output_type": "stream",
     "text": [
      "[3, 4]\n",
      "[30]\n"
     ]
    }
   ],
   "source": [
    "# Napisz funkcję, która dla dwóch list liczbowych zwróci listę zawierającą tylko te elementy, które należą do obydwu list wejściowych.\n",
    "\n",
    "def common_elements_set(list1, list2):\n",
    "    return list(set(list1) & set(list2))\n",
    "\n",
    "print(common_elements_set([1, 2, 3, 4], [3, 4, 5, 6]))  # [3, 4]\n",
    "print(common_elements_set([10, 20, 30], [30, 40, 50]))  # [30]"
   ]
  },
  {
   "cell_type": "code",
   "execution_count": null,
   "id": "b4650d0f-d435-4b84-93b6-52707645e647",
   "metadata": {},
   "outputs": [],
   "source": []
  }
 ],
 "metadata": {
  "kernelspec": {
   "display_name": "Python 3 (ipykernel)",
   "language": "python",
   "name": "python3"
  },
  "language_info": {
   "codemirror_mode": {
    "name": "ipython",
    "version": 3
   },
   "file_extension": ".py",
   "mimetype": "text/x-python",
   "name": "python",
   "nbconvert_exporter": "python",
   "pygments_lexer": "ipython3",
   "version": "3.12.7"
  }
 },
 "nbformat": 4,
 "nbformat_minor": 5
}
