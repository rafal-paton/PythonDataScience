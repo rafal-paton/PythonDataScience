{
 "cells": [
  {
   "cell_type": "code",
   "execution_count": 3,
   "id": "191cd608-0881-4aa4-9bf6-a4f91b17ade6",
   "metadata": {},
   "outputs": [
    {
     "name": "stdout",
     "output_type": "stream",
     "text": [
      "Number of letters: 13\n",
      "Number of digits: 2\n"
     ]
    }
   ],
   "source": [
    "# Napisz funkcję przyjmujacą napis i zwracającą informacje ile liter i cyfr jest w napisie.\n",
    "\n",
    "def count_letters_and_digits(text):\n",
    "    letters = 0\n",
    "    digits = 0\n",
    "    for char in text:\n",
    "        if char.isalpha():\n",
    "            letters += 1\n",
    "        elif char.isdigit():\n",
    "            digits += 1\n",
    "    return letters, digits\n",
    "\n",
    "example = \"Ala ma 2 koty i 3 psy\"\n",
    "letters_count, digits_count = count_letters_and_digits(example)\n",
    "print(\"Number of letters:\", letters_count)\n",
    "print(\"Number of digits:\", digits_count)"
   ]
  },
  {
   "cell_type": "code",
   "execution_count": null,
   "id": "db2342bc-1587-4227-b7c5-e61cf31323ee",
   "metadata": {},
   "outputs": [],
   "source": []
  }
 ],
 "metadata": {
  "kernelspec": {
   "display_name": "Python 3 (ipykernel)",
   "language": "python",
   "name": "python3"
  },
  "language_info": {
   "codemirror_mode": {
    "name": "ipython",
    "version": 3
   },
   "file_extension": ".py",
   "mimetype": "text/x-python",
   "name": "python",
   "nbconvert_exporter": "python",
   "pygments_lexer": "ipython3",
   "version": "3.12.7"
  }
 },
 "nbformat": 4,
 "nbformat_minor": 5
}
