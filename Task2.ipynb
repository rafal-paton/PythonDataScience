{
 "cells": [
  {
   "cell_type": "code",
   "execution_count": 12,
   "id": "109d27dc-b85e-44e4-87c0-58b405840dbd",
   "metadata": {},
   "outputs": [
    {
     "name": "stdout",
     "output_type": "stream",
     "text": [
      "[2, 3, 5, 7]\n",
      "[2, 3]\n"
     ]
    }
   ],
   "source": [
    "# Napisz funkcję, która wypisze wszystkie liczby pierwsze mniejsze od liczby będącej argumentem funkcji.\n",
    "\n",
    "def prime_numbers_less_than(number):\n",
    "    prime_numbers = []\n",
    "    for i in range(2, number):\n",
    "        is_prime = True\n",
    "        for j in range(2, i):\n",
    "            if i % j == 0:\n",
    "                is_prime = False\n",
    "                break\n",
    "        if is_prime:\n",
    "            prime_numbers.append(i)\n",
    "    return prime_numbers\n",
    "\n",
    "print(prime_numbers_less_than(10))  # [2, 3, 5, 7]\n",
    "print(prime_numbers_less_than(5))   # [2, 3]"
   ]
  },
  {
   "cell_type": "code",
   "execution_count": null,
   "id": "ef4d911d-f862-41d8-9c2b-8c8c8e059233",
   "metadata": {},
   "outputs": [],
   "source": []
  }
 ],
 "metadata": {
  "kernelspec": {
   "display_name": "Python 3 (ipykernel)",
   "language": "python",
   "name": "python3"
  },
  "language_info": {
   "codemirror_mode": {
    "name": "ipython",
    "version": 3
   },
   "file_extension": ".py",
   "mimetype": "text/x-python",
   "name": "python",
   "nbconvert_exporter": "python",
   "pygments_lexer": "ipython3",
   "version": "3.12.7"
  }
 },
 "nbformat": 4,
 "nbformat_minor": 5
}
