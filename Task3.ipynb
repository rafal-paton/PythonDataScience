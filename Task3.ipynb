{
 "cells": [
  {
   "cell_type": "code",
   "execution_count": 1,
   "id": "35a9d7cf-23a6-4791-b727-6ed4e471fc55",
   "metadata": {},
   "outputs": [
    {
     "name": "stdout",
     "output_type": "stream",
     "text": [
      "[1, 2, 5, 5, 9]\n",
      "[-3, 4, 7, 10]\n"
     ]
    }
   ],
   "source": [
    "# Napisz funkcję, która posortuje listę liczb w porządku niemalejącym.\n",
    "\n",
    "def sort_numbers(numbers):\n",
    "    for i in range(len(numbers)):\n",
    "        for j in range(i + 1, len(numbers)):\n",
    "            if numbers[i] > numbers[j]:\n",
    "                numbers[i], numbers[j] = numbers[j], numbers[i]\n",
    "    return numbers\n",
    "\n",
    "print(sort_numbers([5, 2, 9, 1, 5]))  # [1, 2, 5, 5, 9]\n",
    "print(sort_numbers([10, -3, 7, 4]))   # [-3, 4, 7, 10]"
   ]
  },
  {
   "cell_type": "code",
   "execution_count": null,
   "id": "5ba09fe4-eb87-40f3-a35b-10f41a6a470b",
   "metadata": {},
   "outputs": [],
   "source": []
  }
 ],
 "metadata": {
  "kernelspec": {
   "display_name": "Python 3 (ipykernel)",
   "language": "python",
   "name": "python3"
  },
  "language_info": {
   "codemirror_mode": {
    "name": "ipython",
    "version": 3
   },
   "file_extension": ".py",
   "mimetype": "text/x-python",
   "name": "python",
   "nbconvert_exporter": "python",
   "pygments_lexer": "ipython3",
   "version": "3.12.7"
  }
 },
 "nbformat": 4,
 "nbformat_minor": 5
}
