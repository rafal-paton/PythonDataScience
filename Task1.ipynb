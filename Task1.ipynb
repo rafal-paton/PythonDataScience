{
 "cells": [
  {
   "cell_type": "code",
   "execution_count": null,
   "id": "2d4bac44-175e-444e-9bc0-d119abe3e7f3",
   "metadata": {},
   "outputs": [],
   "source": [
    "# Napisz funkcję o dwóch argumentach, która sprawdzi, czy jedna liczba jest podzielna przez drugą liczbę.\n",
    "\n",
    "def is_divisible(first_number, second_number):\n",
    "    return first_number % second_number == 0\n",
    "\n",
    "print(is_divisible(6, 3)) #True\n",
    "print(is_divisible(7, 2)) #False"
   ]
  }
 ],
 "metadata": {
  "kernelspec": {
   "display_name": "Python 3 (ipykernel)",
   "language": "python",
   "name": "python3"
  },
  "language_info": {
   "codemirror_mode": {
    "name": "ipython",
    "version": 3
   },
   "file_extension": ".py",
   "mimetype": "text/x-python",
   "name": "python",
   "nbconvert_exporter": "python",
   "pygments_lexer": "ipython3",
   "version": "3.12.7"
  }
 },
 "nbformat": 4,
 "nbformat_minor": 5
}
