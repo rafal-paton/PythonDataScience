{
 "cells": [
  {
   "cell_type": "code",
   "execution_count": 4,
   "id": "1ee10564-042d-4b71-83fa-525ab03ecffb",
   "metadata": {},
   "outputs": [
    {
     "name": "stdout",
     "output_type": "stream",
     "text": [
      "[40, 23, 10]\n"
     ]
    }
   ],
   "source": [
    "# Napisz funkcję, która zwróci które urodziny będą obchodziły w tym roku osoby urodzone w latach podanych \n",
    "# w liście będącej argumentem wejściowym danej funkcji.\n",
    "\n",
    "from datetime import datetime\n",
    "\n",
    "def birthday_ages(birth_years):\n",
    "    current_year = datetime.now().year\n",
    "    ages = []\n",
    "    for year in birth_years:\n",
    "        age = current_year - year\n",
    "        ages.append(age)\n",
    "    return ages\n",
    "\n",
    "birth_years = [1985, 2002, 2015]\n",
    "print(birthday_ages(birth_years))  #[40, 23, 10]"
   ]
  },
  {
   "cell_type": "code",
   "execution_count": null,
   "id": "91538152-f1b3-4e57-b702-aecbca77f3c4",
   "metadata": {},
   "outputs": [],
   "source": []
  }
 ],
 "metadata": {
  "kernelspec": {
   "display_name": "Python 3 (ipykernel)",
   "language": "python",
   "name": "python3"
  },
  "language_info": {
   "codemirror_mode": {
    "name": "ipython",
    "version": 3
   },
   "file_extension": ".py",
   "mimetype": "text/x-python",
   "name": "python",
   "nbconvert_exporter": "python",
   "pygments_lexer": "ipython3",
   "version": "3.12.7"
  }
 },
 "nbformat": 4,
 "nbformat_minor": 5
}
